{
 "cells": [
  {
   "cell_type": "markdown",
   "metadata": {},
   "source": [
    "# Лабораторная работа №7\n",
    "\n",
    "*Водяный Михаил, РИ-440005*"
   ]
  },
  {
   "cell_type": "markdown",
   "metadata": {},
   "source": [
    "## Задание\n",
    "Разработайте приложение которое разбивает файл из первой лабораторной работы на блоки длинной 1000 байт, затем в первом блоке M требуется рассчитать хеш основываясь на реализацию созданную в предыдущей работе.\n",
    "Подберите такое значение Nonce, что бы hash(M + Nonce) начинался с 0 (старший бит). Учитывайте, что length(M + Nonce + hash(M + Nonce))=1024. Оцените время работы вашего приложения.\n"
   ]
  },
  {
   "cell_type": "markdown",
   "metadata": {},
   "source": [
    "## 1. Определение функций"
   ]
  },
  {
   "cell_type": "code",
   "execution_count": 107,
   "metadata": {},
   "outputs": [],
   "source": [
    "def make_chunks(data,length): #функция для разделения исходных данных на блоки\n",
    "    return [data[i:i+length] for i in range(0, len(data), length)]"
   ]
  },
  {
   "cell_type": "code",
   "execution_count": 108,
   "metadata": {},
   "outputs": [],
   "source": [
    "# Функция перевода хеш-значения в бинарный вид (для последующего нахождения хеша, старший бит \n",
    "# которого равен 0)\n",
    "\n",
    "def get_bin_hash(hsh): \n",
    "    int_hsh=list(map(lambda x: int(x,16),hsh)) \n",
    "    bin_hsh=\"\".join((map(lambda x: '{0:04b}'.format(x),int_hsh)))\n",
    "\n",
    "    return bin_hsh"
   ]
  },
  {
   "cell_type": "code",
   "execution_count": 109,
   "metadata": {},
   "outputs": [],
   "source": [
    "import Lab_6\n",
    "\n",
    "with open(\"a06.txt\", \"r\") as file:\n",
    "    message = file.read()\n",
    "\n",
    "#Выделение блока в 1000 байтов\n",
    "\n",
    "first_chunk=make_chunks(message,1000*8)[0] #получение первого блока\n",
    "\n",
    "hsh= Lab_6.sha1(first_chunk) #Применение алгоритма sha1 из 6 ЛР\n"
   ]
  },
  {
   "cell_type": "code",
   "execution_count": 110,
   "metadata": {},
   "outputs": [],
   "source": [
    "import random\n",
    "\n",
    "def get_nonce(message): #функция, перебором находящая значение nonce \n",
    "#(4 байта, т.к. Так как существует условие length(M + Nonce + \n",
    "#hash(M + Nonce))=1024 и длина сообщения и хеша равна, \n",
    "#соответственно, 1000 байт и 20 байт (160 бит)) такое, \n",
    "#чтобы старший бит хеша был равен 0\n",
    "\n",
    "    while True:\n",
    "        nonce = random.randint(0,9223372036854775807)\n",
    "        new_hsh = Lab_6.sha1(message+str(nonce))\n",
    "        new_bin_hsh = get_bin_hash(new_hsh)\n",
    "\n",
    "        if new_bin_hsh[0] == '0':\n",
    "            print('hash: ', new_bin_hsh)\n",
    "\n",
    "            return nonce\n",
    "    \n"
   ]
  },
  {
   "cell_type": "markdown",
   "metadata": {},
   "source": [
    "## 2. Тестирование"
   ]
  },
  {
   "cell_type": "code",
   "execution_count": 111,
   "metadata": {},
   "outputs": [
    {
     "data": {
      "text/plain": [
       "'73b62e4389babcbdd3f44f7e88e3598ae4e662f4'"
      ]
     },
     "execution_count": 111,
     "metadata": {},
     "output_type": "execute_result"
    }
   ],
   "source": [
    "hsh"
   ]
  },
  {
   "cell_type": "code",
   "execution_count": 112,
   "metadata": {
    "scrolled": false
   },
   "outputs": [
    {
     "name": "stdout",
     "output_type": "stream",
     "text": [
      "hash:  0000110100011011000010100011100101110001110110001001110100101000110101101100010010001110100010100101100011111011001101011111111010001100000111101101100111101000\n"
     ]
    },
    {
     "data": {
      "text/plain": [
       "7691666816729358163"
      ]
     },
     "execution_count": 112,
     "metadata": {},
     "output_type": "execute_result"
    }
   ],
   "source": [
    "get_nonce(hsh)"
   ]
  },
  {
   "cell_type": "markdown",
   "metadata": {},
   "source": [
    "## 3. Оценка времени работы алгоритма"
   ]
  },
  {
   "cell_type": "code",
   "execution_count": 113,
   "metadata": {},
   "outputs": [
    {
     "name": "stdout",
     "output_type": "stream",
     "text": [
      "0.008973414938623137\n"
     ]
    }
   ],
   "source": [
    "import timeit\n",
    "print(timeit.timeit())"
   ]
  }
 ],
 "metadata": {
  "kernelspec": {
   "display_name": "Python 3",
   "language": "python",
   "name": "python3"
  },
  "language_info": {
   "codemirror_mode": {
    "name": "ipython",
    "version": 3
   },
   "file_extension": ".py",
   "mimetype": "text/x-python",
   "name": "python",
   "nbconvert_exporter": "python",
   "pygments_lexer": "ipython3",
   "version": "3.6.4"
  }
 },
 "nbformat": 4,
 "nbformat_minor": 2
}

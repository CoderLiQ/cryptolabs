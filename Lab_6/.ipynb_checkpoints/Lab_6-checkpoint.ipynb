{
 "cells": [
  {
   "cell_type": "markdown",
   "metadata": {},
   "source": [
    "# Лабораторная работа №6\n",
    "\n",
    "*Водяный Михаил, РИ-440005*"
   ]
  },
  {
   "cell_type": "markdown",
   "metadata": {},
   "source": [
    "## Задание\n",
    "Реализуйте один из трёх алгоритмов криптографического хеширования (0 - sha1, 1 - md5, 2 - ГОСТ Р 34.11-94) в зависимости от остатка при делении номера варианта в поле GF(3).\n",
    "\n",
    "Вариант 0."
   ]
  },
  {
   "cell_type": "markdown",
   "metadata": {},
   "source": [
    "## 1. Определение функций"
   ]
  },
  {
   "cell_type": "markdown",
   "metadata": {},
   "source": [
    "### 1.1. Перевод текста в биты"
   ]
  },
  {
   "cell_type": "code",
   "execution_count": 14,
   "metadata": {},
   "outputs": [],
   "source": [
    "def text_to_bits(text):\n",
    "    textBytes = bytearray(text, 'ascii')\n",
    "    textBits  = [format(byte, '08b') for byte in textBytes]\n",
    "    return ''.join(textBits)"
   ]
  },
  {
   "cell_type": "markdown",
   "metadata": {},
   "source": [
    "### 1.2. Дополнение битов "
   ]
  },
  {
   "cell_type": "code",
   "execution_count": 21,
   "metadata": {},
   "outputs": [],
   "source": [
    "def bits_addition(bitsString, textLength):\n",
    "    \n",
    "    zeros = (448 - (8 * textLength + 1)) % 512\n",
    "    padBits = '1' + ('0' * zeros + format(textLength * 8, '064b'))\n",
    "    \n",
    "    textPadded = bitsString + padBits\n",
    "    try:\n",
    "        assert(len(textPadded) % 512 == 0)\n",
    "    except:\n",
    "        print('Error')\n",
    "    return textPadded"
   ]
  },
  {
   "cell_type": "code",
   "execution_count": 16,
   "metadata": {},
   "outputs": [],
   "source": [
    "def k_const(t):\n",
    "    if t <= 19:\n",
    "        return 0x5a827999\n",
    "    elif t <= 39:\n",
    "        return 0x6ed9eba1\n",
    "    elif t <= 59:\n",
    "        return 0x8f1bbcdc\n",
    "    else:\n",
    "        return 0xca62c1d6"
   ]
  },
  {
   "cell_type": "markdown",
   "metadata": {},
   "source": [
    "### 1.3. Логические функции"
   ]
  },
  {
   "cell_type": "code",
   "execution_count": 17,
   "metadata": {},
   "outputs": [],
   "source": [
    "def ROTL(x, n, w):\n",
    "    return((x << n & (2 ** w - 1)) | (x >> w - n))"
   ]
  },
  {
   "cell_type": "code",
   "execution_count": 18,
   "metadata": {},
   "outputs": [],
   "source": [
    "def Ch(x, y, z):\n",
    "    return((x & y) ^ (~x & z))\n",
    "\n",
    "def Parity(x, y, z):\n",
    "    return(x ^ y ^ z)\n",
    "\n",
    "def Maj(x, y, z):\n",
    "    return((x & y) ^ (x & z) ^ (y & z))"
   ]
  },
  {
   "cell_type": "markdown",
   "metadata": {},
   "source": [
    "### 1.4. Основная функция"
   ]
  },
  {
   "cell_type": "code",
   "execution_count": 19,
   "metadata": {},
   "outputs": [],
   "source": [
    "def sha1(text):\n",
    "\n",
    "    # Предварительная обработка\n",
    "    textBits = text_to_bits(text)  # Перевод текста в биты\n",
    "    textPadded = bits_addition(textBits, len(text))  # Добавление битов до 512\n",
    "       \n",
    "    # Инициализация переменных\n",
    "    H = [0x67452301, 0xefcdab89, 0x98badcfe, 0x10325476, 0xc3d2e1f0]\n",
    "\n",
    "    # Количество итераций\n",
    "    N = int(len(textPadded) / 512)\n",
    "   \n",
    "    # Основной цикл\n",
    "    for i in range(1, N + 1):\n",
    "        \n",
    "        W = list()\n",
    "        \n",
    "        # Разбиваем сообщение на сообщение меньше размером 512\n",
    "        start = (i-1) * 512\n",
    "        finish = start + 512\n",
    "        M1 = textPadded[start:finish]\n",
    "        \n",
    "        # Блок сообщения преобразуется из 16 32-битовых слов в 80 32-битовых слов\n",
    "        for t in range(80):\n",
    "            if t <= 15:\n",
    "                W.extend([ int(M1[ (32 * t) : (32 * (t + 1)) ], 2)  ])\n",
    "            else:\n",
    "                W.extend([ ROTL( W[t - 3] ^ W[t - 8] ^ W[t - 14] ^ W[t - 16], n=1, w=32) ])\n",
    "   \n",
    "        a, b, c, d, e = H[0], H[1], H[2], H[3], H[4]\n",
    "        \n",
    "        # В зависимости от индекса используем разные функции\n",
    "        for t in range(80):\n",
    "            if t <= 19:\n",
    "                f = Ch(b, c, d)\n",
    "            elif t <= 39:\n",
    "                f = Parity(b, c, d)\n",
    "            elif t <= 59:\n",
    "                f = Maj(b, c, d)\n",
    "            else:\n",
    "                f = Parity(b, c, d)\n",
    "\n",
    "            temp = (ROTL(a, n=5, w=32) + f + e + k_const(t) + W[t]) % (2 ** 32)\n",
    "\n",
    "            e, d, c, b, a = d, c, ROTL(b, n=30, w=32), a, temp\n",
    "\n",
    "        # Добавляем хеш-значение к результату\n",
    "        for index, i in enumerate((a, b, c, d, e)):\n",
    "            H[index] = (i + H[index]) % (2 ** 32)\n",
    "    \n",
    "    # Форматирование\n",
    "    H = [format(x, '08x') for x in H]\n",
    "\n",
    "    return(\"\".join(H))"
   ]
  },
  {
   "cell_type": "markdown",
   "metadata": {},
   "source": [
    "## 2. Тестирование"
   ]
  },
  {
   "cell_type": "code",
   "execution_count": 20,
   "metadata": {
    "scrolled": false
   },
   "outputs": [
    {
     "name": "stdout",
     "output_type": "stream",
     "text": [
      "2fd4e1c67a2d28fced849ee1bb76e7391b93eb12\n"
     ]
    }
   ],
   "source": [
    "result = sha1('The quick brown fox jumps over the lazy dog')\n",
    "print(result)\n",
    "assert('2fd4e1c67a2d28fced849ee1bb76e7391b93eb12' == result)"
   ]
  }
 ],
 "metadata": {
  "kernelspec": {
   "display_name": "Python 3",
   "language": "python",
   "name": "python3"
  },
  "language_info": {
   "codemirror_mode": {
    "name": "ipython",
    "version": 3
   },
   "file_extension": ".py",
   "mimetype": "text/x-python",
   "name": "python",
   "nbconvert_exporter": "python",
   "pygments_lexer": "ipython3",
   "version": "3.6.4"
  }
 },
 "nbformat": 4,
 "nbformat_minor": 2
}

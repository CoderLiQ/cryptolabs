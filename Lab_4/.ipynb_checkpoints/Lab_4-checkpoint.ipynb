{
 "cells": [
  {
   "cell_type": "markdown",
   "metadata": {},
   "source": [
    "# Лабораторная работа №4\n",
    "\n",
    "*Водяный Михаил, РИ-440005*"
   ]
  },
  {
   "cell_type": "markdown",
   "metadata": {},
   "source": [
    "## Задание\n",
    "Разработать программу шифрования и дешифрования основанную на асимметричном алгоритме RSA. Разработанную программу для стандартных типов данных (unsigned __int64) расширить для целых чисел произвольной длины."
   ]
  },
  {
   "cell_type": "markdown",
   "metadata": {},
   "source": [
    "## 1. Описание алгоритма"
   ]
  },
  {
   "cell_type": "markdown",
   "metadata": {},
   "source": [
    "1.      Выбираются два простых числа p и q.\n",
    "2.      Вычисляется произведение p и q, которое называется модулем. N = p*q.\n",
    "3.      Вычисляется значение функции Эйлера от числа n.\n",
    "4.      Выбирается целое число e, взаимно простое со значением функции.\n",
    "5.      Выбирается число d, удовлетворяющее условию e*d mod f(p,q)=1\n",
    "\n",
    "Получаем {e,n} – открытый ключ шифрования, {d, n} – закрытый."
   ]
  },
  {
   "cell_type": "markdown",
   "metadata": {},
   "source": [
    "## 2. Определение функций"
   ]
  },
  {
   "cell_type": "markdown",
   "metadata": {},
   "source": [
    "## 2.1. Математические функции"
   ]
  },
  {
   "cell_type": "code",
   "execution_count": 103,
   "metadata": {},
   "outputs": [],
   "source": [
    "def euclid(f, e):\n",
    "    i = 0\n",
    "    while(True):\n",
    "        buf = i * f + 1\n",
    "        if buf % e == 0:\n",
    "            return int(buf / e)\n",
    "        else:\n",
    "            i += 1"
   ]
  },
  {
   "cell_type": "code",
   "execution_count": 104,
   "metadata": {},
   "outputs": [],
   "source": [
    "def euler(p, q):\n",
    "    return (p-1)*(q-1)"
   ]
  },
  {
   "cell_type": "code",
   "execution_count": 105,
   "metadata": {},
   "outputs": [],
   "source": [
    "def fast_pow(value, power):\n",
    "    if power == 0:\n",
    "        return 1\n",
    "    \n",
    "    p = fast_pow(value, power // 2)\n",
    "    p *= p\n",
    "    if power % 2:\n",
    "        p *= value\n",
    "    return p"
   ]
  },
  {
   "cell_type": "markdown",
   "metadata": {},
   "source": [
    "## 2.2. Функция шифрования"
   ]
  },
  {
   "cell_type": "code",
   "execution_count": 106,
   "metadata": {},
   "outputs": [],
   "source": [
    "def encode_RSA(word,e,N):\n",
    "    ret = list()\n",
    "    for v in word:\n",
    "        n = ord(v)\n",
    "        ret.append(int(fast_pow(n,e) % N))\n",
    "    return ret"
   ]
  },
  {
   "cell_type": "markdown",
   "metadata": {},
   "source": [
    "## 2.3. Функция дешифрования"
   ]
  },
  {
   "cell_type": "code",
   "execution_count": 107,
   "metadata": {},
   "outputs": [],
   "source": [
    "def decode_RSA(word,d,N):\n",
    "    ret = list()\n",
    "    for v in word:\n",
    "        sim = fast_pow(v,d) % N\n",
    "        ret.append(chr(sim))\n",
    "    return ''.join(ret)"
   ]
  },
  {
   "cell_type": "markdown",
   "metadata": {},
   "source": [
    "## 3. Определение констант и вычисление значений"
   ]
  },
  {
   "cell_type": "code",
   "execution_count": 108,
   "metadata": {},
   "outputs": [],
   "source": [
    "p = 3167\n",
    "q = 2663\n",
    "# p = 3557\n",
    "# q = 2579"
   ]
  },
  {
   "cell_type": "markdown",
   "metadata": {},
   "source": [
    "### 3.1. Вычисление модуля исходных чисел"
   ]
  },
  {
   "cell_type": "code",
   "execution_count": 109,
   "metadata": {},
   "outputs": [
    {
     "name": "stdout",
     "output_type": "stream",
     "text": [
      "n = 8433721\n"
     ]
    }
   ],
   "source": [
    "n = p * q  \n",
    "print('n =', n)"
   ]
  },
  {
   "cell_type": "markdown",
   "metadata": {},
   "source": [
    "### 3.2. Вычисление функции Эйлера"
   ]
  },
  {
   "cell_type": "code",
   "execution_count": 110,
   "metadata": {},
   "outputs": [
    {
     "name": "stdout",
     "output_type": "stream",
     "text": [
      "f = 8427892\n"
     ]
    }
   ],
   "source": [
    "f = euler(p, q)\n",
    "print('f =', f)"
   ]
  },
  {
   "cell_type": "markdown",
   "metadata": {},
   "source": [
    "## Вычисление закрытой экспоненты"
   ]
  },
  {
   "cell_type": "code",
   "execution_count": 111,
   "metadata": {},
   "outputs": [
    {
     "name": "stdout",
     "output_type": "stream",
     "text": [
      "3241497\n"
     ]
    }
   ],
   "source": [
    "e = 13 # открытая экспонента\n",
    "d = euclid(f, e) \n",
    "print(d)"
   ]
  },
  {
   "cell_type": "markdown",
   "metadata": {},
   "source": [
    "# 4. Тестирование"
   ]
  },
  {
   "cell_type": "markdown",
   "metadata": {},
   "source": [
    "## 4.1. Шифрование"
   ]
  },
  {
   "cell_type": "code",
   "execution_count": 112,
   "metadata": {},
   "outputs": [
    {
     "name": "stdout",
     "output_type": "stream",
     "text": [
      "[7700892, 3203811, 7016922]\n"
     ]
    }
   ],
   "source": [
    "text = u'May The Father of Understanding Guide Us'\n",
    "\n",
    "encoded_text = encode_RSA(text, e, n)\n",
    "print(l)"
   ]
  },
  {
   "cell_type": "markdown",
   "metadata": {},
   "source": [
    "## 4.2. Дешифрование"
   ]
  },
  {
   "cell_type": "code",
   "execution_count": 113,
   "metadata": {
    "scrolled": true
   },
   "outputs": [
    {
     "name": "stdout",
     "output_type": "stream",
     "text": [
      "May The Father of Understanding Guide Us\n"
     ]
    }
   ],
   "source": [
    "decoded_text = decode_RSA(encoded_text, d, n)\n",
    "print(decoded_text)"
   ]
  },
  {
   "cell_type": "markdown",
   "metadata": {},
   "source": [
    "## 4.3. Проверка результатов на соответствие"
   ]
  },
  {
   "cell_type": "code",
   "execution_count": 114,
   "metadata": {},
   "outputs": [
    {
     "name": "stdout",
     "output_type": "stream",
     "text": [
      "Шифрование и дешифрование прошло успешно\n"
     ]
    }
   ],
   "source": [
    "if text == decoded_text:\n",
    "    print('Шифрование и дешифрование прошло успешно')\n",
    "else:\n",
    "    print('Ошибка')"
   ]
  }
 ],
 "metadata": {
  "kernelspec": {
   "display_name": "Python 3",
   "language": "python",
   "name": "python3"
  },
  "language_info": {
   "codemirror_mode": {
    "name": "ipython",
    "version": 3
   },
   "file_extension": ".py",
   "mimetype": "text/x-python",
   "name": "python",
   "nbconvert_exporter": "python",
   "pygments_lexer": "ipython3",
   "version": "3.6.4"
  }
 },
 "nbformat": 4,
 "nbformat_minor": 2
}

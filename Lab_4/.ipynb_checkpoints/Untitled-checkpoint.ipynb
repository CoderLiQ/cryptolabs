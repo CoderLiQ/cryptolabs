{
 "cells": [
  {
   "cell_type": "markdown",
   "metadata": {},
   "source": [
    "# Лабораторная работа №4\n",
    "\n",
    "*Водяный Михаил, РИ-440005*"
   ]
  },
  {
   "cell_type": "markdown",
   "metadata": {},
   "source": [
    "## Задание\n",
    "Разработать программу шифрования и дешифрования основанную на асимметричном алгоритме RSA. Разработанную программу для стандартных типов данных (unsigned __int64) расширить для целых чисел произвольной длины."
   ]
  },
  {
   "cell_type": "code",
   "execution_count": 8,
   "metadata": {},
   "outputs": [],
   "source": [
    "def RSA(simple_numbers): #реализация алгоритма шифрования RSA\n",
    "\n",
    "    while True:\n",
    "        p=simple_numbers[random.randint(0,len(simple_numbers))] #p и q - два\n",
    "\n",
    "#различных случайных простых числа одинакового размера\n",
    "\n",
    "        simple_numbers.remove(p) #удаление p из массива простых чисел, чтобы\n",
    "\n",
    "#p и q не совпали\n",
    "\n",
    "        q=simple_numbers[random.randint(0,len(simple_numbers))]\n",
    "\n",
    "        n=p*q #модуль - произведение p и q\n",
    "\n",
    "        euler=(p-1)*(q-1) #значение функции Эйлера\n",
    "\n",
    "        e=FermatNumbers(euler)[random.randint(2,len(FermatNumbers(euler))-1)]\n",
    "\n",
    "#открытая экспонента - число, взаимное простое с euler,\n",
    "\n",
    "#в пределах 1<e<euler, в соответствии с рекомендациями берутся\n",
    "\n",
    "#простые числа, содержащие небольшое количество единичных бит в\n",
    "\n",
    "#двоичной записи, например, простые числа Ферма\n",
    "\n",
    "        d=GCD(e,euler)[1] #число, мультипликативно обратное к числу e по\n",
    "\n",
    "#модулю euler. Вычисляется при помощи расширенного алгоритма\n",
    "\n",
    "#Евклида\n",
    "#в случае, если найден положительный обратный элемент d возврат из функции\n",
    "        if d>0: \n",
    "            return e,d,n"
   ]
  },
  {
   "cell_type": "code",
   "execution_count": 9,
   "metadata": {},
   "outputs": [],
   "source": [
    "def FermatNumbers(limit): #функция, возвращающая массив чисел Ферма до\n",
    "\n",
    "#заданного предела\n",
    "\n",
    "    current_num,n,numbers=0,0,[]\n",
    "\n",
    "    while True:\n",
    "\n",
    "        current_num=2**(2**n)+1 #вычисление n-ого числа Ферма\n",
    "        if current_num>=limit: \n",
    "            break;\n",
    "\n",
    "        numbers.append(current_num) #иначе n-е число добавляется в массив\n",
    "        n+=1      \n",
    "    if len(numbers)==0: #если ни одно число не добавлено в массив, сообщение\n",
    "\n",
    "#об ошибке\n",
    "\n",
    "        print(\"Предел слишком маленький.\")\n",
    "\n",
    "    else:\n",
    "        return numbers"
   ]
  },
  {
   "cell_type": "code",
   "execution_count": 10,
   "metadata": {},
   "outputs": [],
   "source": [
    "def GCD(a,b): #функция, реализующая расширенный алгоритм Евклида\n",
    "\n",
    "    a0,a1=a,b\n",
    "\n",
    "    x0,x1=1,0\n",
    "\n",
    "    y0,y1=0,1\n",
    "\n",
    "    while a1!=0:\n",
    "\n",
    "        q=a0//a1\n",
    "\n",
    "        a0,a1=a1,a0-a1*q\n",
    "\n",
    "        x0,x1=x1,x0-x1*q\n",
    "\n",
    "        y0,y1=y1,y0-y1*q\n",
    "\n",
    "    return a0,x0,y0"
   ]
  },
  {
   "cell_type": "code",
   "execution_count": 12,
   "metadata": {},
   "outputs": [],
   "source": [
    "def pow_mod(x, y, z):\n",
    "\n",
    "#Быстрое возведение в степень по модулю\n",
    "\n",
    "    number = 1 #инициализация результата\n",
    "\n",
    "    while y: #пока степень не равна 0\n",
    "\n",
    "        if y & 1: #если степень нечетна\n",
    "\n",
    "            number = number * x % z #результат умножается на x по модулю z\n",
    "\n",
    "            y >>= 1 #побитовый сдвиг числа (степени) вправо на 1 (равносилен\n",
    "\n",
    "#делению на 2^1)\n",
    "\n",
    "        x = x * x % z #x возводится в квадрат по модулю z\n",
    "\n",
    "    return number"
   ]
  },
  {
   "cell_type": "code",
   "execution_count": 20,
   "metadata": {},
   "outputs": [
    {
     "ename": "ValueError",
     "evalue": "invalid literal for int() with base 10: '7907\\t17387\\t27437\\t37811\\t48593\\t59357'",
     "output_type": "error",
     "traceback": [
      "\u001b[1;31m---------------------------------------------------------------------------\u001b[0m",
      "\u001b[1;31mValueError\u001b[0m                                Traceback (most recent call last)",
      "\u001b[1;32m<ipython-input-20-b25560e359b3>\u001b[0m in \u001b[0;36m<module>\u001b[1;34m()\u001b[0m\n\u001b[0;32m      7\u001b[0m \u001b[1;32mwith\u001b[0m \u001b[0mopen\u001b[0m\u001b[1;33m(\u001b[0m\u001b[1;34m\"random.txt\"\u001b[0m\u001b[1;33m,\u001b[0m\u001b[1;34m\"r\"\u001b[0m\u001b[1;33m)\u001b[0m \u001b[1;32mas\u001b[0m \u001b[0mfile\u001b[0m\u001b[1;33m:\u001b[0m\u001b[1;33m\u001b[0m\u001b[0m\n\u001b[0;32m      8\u001b[0m \u001b[1;33m\u001b[0m\u001b[0m\n\u001b[1;32m----> 9\u001b[1;33m     \u001b[0msimpleNumbers\u001b[0m\u001b[1;33m=\u001b[0m\u001b[0mlist\u001b[0m\u001b[1;33m(\u001b[0m\u001b[0mmap\u001b[0m\u001b[1;33m(\u001b[0m\u001b[0mint\u001b[0m\u001b[1;33m,\u001b[0m\u001b[0mre\u001b[0m\u001b[1;33m.\u001b[0m\u001b[0msplit\u001b[0m\u001b[1;33m(\u001b[0m\u001b[1;34m\"[ \\n]\"\u001b[0m\u001b[1;33m,\u001b[0m\u001b[0mfile\u001b[0m\u001b[1;33m.\u001b[0m\u001b[0mread\u001b[0m\u001b[1;33m(\u001b[0m\u001b[1;33m)\u001b[0m\u001b[1;33m)\u001b[0m\u001b[1;33m)\u001b[0m\u001b[1;33m)\u001b[0m\u001b[1;33m\u001b[0m\u001b[0m\n\u001b[0m\u001b[0;32m     10\u001b[0m \u001b[1;33m\u001b[0m\u001b[0m\n\u001b[0;32m     11\u001b[0m \u001b[1;31m#Открытие файла с текстом\u001b[0m\u001b[1;33m\u001b[0m\u001b[1;33m\u001b[0m\u001b[0m\n",
      "\u001b[1;31mValueError\u001b[0m: invalid literal for int() with base 10: '7907\\t17387\\t27437\\t37811\\t48593\\t59357'"
     ]
    }
   ],
   "source": [
    "import re\n",
    "\n",
    "import random\n",
    "\n",
    "#Открытие файла со случайными простыми числами\n",
    "\n",
    "with open(\"random.txt\",\"r\") as file:\n",
    "\n",
    "    simpleNumbers=list(map(int,re.split(\"[ \\n]\",file.read())))\n",
    "\n",
    "#Открытие файла с текстом\n",
    "\n",
    "with open(\"a06.txt\",\"r\") as file:\n",
    "\n",
    "    text=file.read()\n",
    "\n",
    "#Получение открытого и закрытого ключей (e,n) (d,n)\n",
    "\n",
    "e,d,n=RSA(simple_numbers=simpleNumbers)\n",
    "\n",
    "#Шифрование текста\n",
    "\n",
    "encr=[]\n",
    "\n",
    "for i in text:\n",
    "    encr.append(pow_mod(ord(i),e,n))\n",
    "\n",
    "#Дешифрование текста\n",
    "\n",
    "decr=\"\".join(chr(pow_mod(i,d,n)) for i in encr)"
   ]
  },
  {
   "cell_type": "code",
   "execution_count": null,
   "metadata": {},
   "outputs": [],
   "source": []
  }
 ],
 "metadata": {
  "kernelspec": {
   "display_name": "Python 3",
   "language": "python",
   "name": "python3"
  },
  "language_info": {
   "codemirror_mode": {
    "name": "ipython",
    "version": 3
   },
   "file_extension": ".py",
   "mimetype": "text/x-python",
   "name": "python",
   "nbconvert_exporter": "python",
   "pygments_lexer": "ipython3",
   "version": "3.6.4"
  }
 },
 "nbformat": 4,
 "nbformat_minor": 2
}

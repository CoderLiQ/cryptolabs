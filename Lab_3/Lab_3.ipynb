{
 "cells": [
  {
   "cell_type": "markdown",
   "metadata": {},
   "source": [
    "# Лабораторная работа №3\n",
    "\n",
    "*Водяный Михаил, РИ-440005*"
   ]
  },
  {
   "cell_type": "markdown",
   "metadata": {},
   "source": [
    "## Задание\n",
    "Разработать программу генерации симметричных ключей с помощью алгоритма Диффи-Хеллмана для расчётов применять алгоритм ускоренного возведения в степень."
   ]
  },
  {
   "cell_type": "markdown",
   "metadata": {},
   "source": [
    "## 1. Определение функций"
   ]
  },
  {
   "cell_type": "code",
   "execution_count": 34,
   "metadata": {},
   "outputs": [],
   "source": [
    "SHARED_PRIME = 7147351\n",
    "SHARED_BASE = 1367"
   ]
  },
  {
   "cell_type": "markdown",
   "metadata": {},
   "source": [
    "### 1.1. Функция ускоренного возведения в степень"
   ]
  },
  {
   "cell_type": "code",
   "execution_count": 35,
   "metadata": {},
   "outputs": [],
   "source": [
    "def fast_pow(value, power):\n",
    "    if power == 0:\n",
    "        return 1\n",
    "    \n",
    "    p = fast_pow(value, power // 2)\n",
    "    p *= p\n",
    "    if power % 2:\n",
    "        p *= value\n",
    "    return p"
   ]
  },
  {
   "cell_type": "markdown",
   "metadata": {},
   "source": [
    "### 1.2. Функции генерации симметричных ключей"
   ]
  },
  {
   "cell_type": "code",
   "execution_count": 36,
   "metadata": {},
   "outputs": [],
   "source": [
    "def first_step_dh(sharedBase, sharedPrime, myKey):\n",
    "    return fast_pow(sharedBase, myKey) % sharedPrime\n",
    "\n",
    "def second_step_dh(sharedPrime, myKey, hisRes):\n",
    "    return fast_pow(hisRes, myKey) % sharedPrime"
   ]
  },
  {
   "cell_type": "code",
   "execution_count": 37,
   "metadata": {},
   "outputs": [],
   "source": [
    "aliceSecret = 13  # a\n",
    "bobSecret = 37  # b"
   ]
  },
  {
   "cell_type": "markdown",
   "metadata": {},
   "source": [
    "## 2. Тестирование"
   ]
  },
  {
   "cell_type": "code",
   "execution_count": 38,
   "metadata": {},
   "outputs": [
    {
     "name": "stdout",
     "output_type": "stream",
     "text": [
      "Шаг 1:\n",
      "a1: 3232447, b1: 6353173\n"
     ]
    }
   ],
   "source": [
    "# Alice Sends Bob A = g^a mod p\n",
    "a1 = first_step_dh(SHARED_BASE, SHARED_PRIME, aliceSecret)\n",
    "\n",
    "# Bob Sends Alice B = g^b mod p\n",
    "b1 = first_step_dh(SHARED_BASE, SHARED_PRIME, bobSecret)\n",
    "\n",
    "print('Шаг 1:\\na1: {a1}, b1: {b1}'.format(a1 = a1, b1 =b1))\n"
   ]
  },
  {
   "cell_type": "code",
   "execution_count": 39,
   "metadata": {},
   "outputs": [
    {
     "name": "stdout",
     "output_type": "stream",
     "text": [
      "Шаг 2:\n",
      "a2: 1680696, b2: 1680696\n"
     ]
    }
   ],
   "source": [
    "# Alice Computes Shared Secret: s = B^a mod p\n",
    "a2 = second_step_dh(SHARED_PRIME, aliceSecret, b1)\n",
    "\n",
    "# Bob Computes Shared Secret: s = A^b mod p\n",
    "b2 = second_step_dh(SHARED_PRIME, bobSecret, a1)\n",
    "\n",
    "print('Шаг 2:\\na2: {a2}, b2: {b2}'.format(a2 = a2, b2 =b2))"
   ]
  },
  {
   "cell_type": "code",
   "execution_count": 40,
   "metadata": {},
   "outputs": [
    {
     "name": "stdout",
     "output_type": "stream",
     "text": [
      "Ключ: 1680696\n"
     ]
    }
   ],
   "source": [
    "if a2 == b2:\n",
    "    print('Ключ:', a2)\n",
    "else:\n",
    "    print('Ошибка')"
   ]
  }
 ],
 "metadata": {
  "kernelspec": {
   "display_name": "Python 3",
   "language": "python",
   "name": "python3"
  },
  "language_info": {
   "codemirror_mode": {
    "name": "ipython",
    "version": 3
   },
   "file_extension": ".py",
   "mimetype": "text/x-python",
   "name": "python",
   "nbconvert_exporter": "python",
   "pygments_lexer": "ipython3",
   "version": "3.6.4"
  }
 },
 "nbformat": 4,
 "nbformat_minor": 2
}
